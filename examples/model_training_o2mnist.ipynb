{
 "cells": [
  {
   "cell_type": "markdown",
   "id": "76e7cb40-aec8-48cc-b87d-1cf84908b5cb",
   "metadata": {},
   "source": [
    "# model_training_o2mnist\n",
    "This notebook is an example of loading data and building a model from a config file. It shows how a model is trained using similar code to `run.py`. There is no automatic logging. \n",
    "\n",
    "\n",
    "To train a model without a notebook, check the repo's README."
   ]
  },
  {
   "cell_type": "code",
   "execution_count": null,
   "id": "a63493d8-d402-411e-8505-2c7313c215fe",
   "metadata": {},
   "outputs": [],
   "source": [
    "import sys\n",
    "sys.path.append(\"../\")\n",
    "import importlib\n",
    "import train_loops\n",
    "import run\n",
    "import torch\n",
    "from utils import utils\n",
    "import wandb\n",
    "import logging\n",
    "import os \n",
    "from pathlib import Path\n",
    "from configs.config_o2mnist import config\n",
    "\n",
    "device = 'cuda' if torch.cuda.is_available() else 'cpu'"
   ]
  },
  {
   "cell_type": "markdown",
   "id": "ffb6a778-6f16-4406-a6f1-845708b6dc75",
   "metadata": {},
   "source": [
    "## Load dataset and view sample data \n",
    "*** First you need to build the o2-vae datset: Navigate to `data/` and run `python generate_o2mnist.py`.  "
   ]
  },
  {
   "cell_type": "code",
   "execution_count": null,
   "id": "a1033980-7fbf-4ffa-b729-e3966a4d09ee",
   "metadata": {},
   "outputs": [],
   "source": [
    "importlib.reload(utils)\n",
    "# get datasets specified by config.data\n",
    "dset, loader, dset_test, loader_test = run.get_datasets_from_config(config)\n",
    "print(\"sample train data\")\n",
    "f, axs = utils.plot_sample_data(loader)\n",
    "f"
   ]
  },
  {
   "cell_type": "markdown",
   "id": "b245dd9d-bf9f-495b-9166-9d455e83e6f5",
   "metadata": {},
   "source": [
    "## Load the model from config parameters"
   ]
  },
  {
   "cell_type": "code",
   "execution_count": null,
   "id": "432ba98d-f2af-4ae7-95d9-a8beb6379343",
   "metadata": {},
   "outputs": [],
   "source": [
    "config.model.encoder.n_channels=dset[0][0].shape[0]  # image channels\n",
    "model = run.build_model_from_config(config)\n",
    "\n",
    "# optimizer - by default, no lr scheduler\n",
    "optimizer = torch.optim.Adam(model.parameters(), lr=config.optimizer.lr)\n",
    "\n",
    "print(model.model_details())"
   ]
  },
  {
   "cell_type": "markdown",
   "id": "a6b77a33-28d3-4e14-a622-6fef50343f3b",
   "metadata": {},
   "source": [
    "## Model training\n",
    "To load a pretrained model for O2-mnist, set `TRAIN_MODEL=True` in the next cell (which will only work if the model config ia still the default\n",
    "Set that "
   ]
  },
  {
   "cell_type": "code",
   "execution_count": null,
   "id": "dfcfbb80-b7fd-4285-94ea-518618e0a9e4",
   "metadata": {},
   "outputs": [],
   "source": [
    "\n",
    "try: \n",
    "    for epoch in range(config.run.epochs):\n",
    "        train_loops.train(epoch, model, loader, optimizer, do_progress_bar=config.logging.do_progress_bar,\n",
    "               do_wandb=0, device=device)\n",
    "\n",
    "        if config.run.do_validation and epoch%config.run.valid_freq==0:\n",
    "            train_loops.valid(epoch, model, loader_test, do_progress_bar=config.logging.do_progress_bar,\n",
    "                    do_wandb=0, device=device)\n",
    "except KeyboardInterrupt: \n",
    "    print(\"Keyboard interrupt\")\n"
   ]
  },
  {
   "cell_type": "markdown",
   "id": "353852ec-4069-4046-8d2b-5405ff12fede",
   "metadata": {},
   "source": [
    "## Save a model"
   ]
  },
  {
   "cell_type": "code",
   "execution_count": null,
   "id": "0762ca30-6edd-401a-a0ef-a18c7f2040b7",
   "metadata": {},
   "outputs": [],
   "source": [
    "fname_model=None\n",
    "if fname_model:\n",
    "    model.train()\n",
    "    torch.save({'epoch': epoch, 'model_state_dict': model.state_dict(),\n",
    "            'optimizer_state_dict': optimizer.state_dict(),}, fname)"
   ]
  },
  {
   "cell_type": "markdown",
   "id": "4f04ff84-a34c-48f7-9ff0-2030d98d5162",
   "metadata": {},
   "source": [
    "## Some sanity checks\n",
    "#### Reconstruction quality and the "
   ]
  },
  {
   "cell_type": "code",
   "execution_count": null,
   "id": "53c117de-2f72-4167-bdae-fe123d332e1f",
   "metadata": {},
   "outputs": [],
   "source": [
    "from utils import eval_utils\n",
    "import matplotlib.pyplot as plt\n",
    "importlib.reload(eval_utils)\n",
    "model.eval().cpu() \n",
    "\n",
    "x,y = next(iter(loader_test))\n",
    "reconstruct_grid = eval_utils.reconstruction_grid(model, x, align=False)\n",
    "reconstruct_grid_aligned = eval_utils.reconstruction_grid(model, x, align=True)\n",
    "f,axs = plt.subplots(1,2, figsize=(10,10))\n",
    "axs[0].imshow(reconstruct_grid)\n",
    "axs[1].imshow(reconstruct_grid_aligned)\n",
    "print(\"Left: reconstructions.\")\n",
    "print(\"Right: reconstructions where output is re-algined\")\n",
    "axs[0].set_axis_off();  axs[1].set_axis_off()"
   ]
  },
  {
   "cell_type": "markdown",
   "id": "5e6a68f8-f046-49c7-8fcc-6b8c148fade2",
   "metadata": {},
   "source": [
    "## Extract features to an array"
   ]
  },
  {
   "cell_type": "code",
   "execution_count": null,
   "id": "4bacde39-a92c-4004-abee-5f22657d786a",
   "metadata": {},
   "outputs": [],
   "source": [
    "device='cuda'\n",
    "embeddings, labels = utils.get_model_embeddings_from_loader(model, loader, return_labels=True)\n",
    "embeddings_test, labels_test = utils.get_model_embeddings_from_loader(model, loader_test, return_labels=True)"
   ]
  }
 ],
 "metadata": {
  "kernelspec": {
   "display_name": "Python 3 (ipykernel)",
   "language": "python",
   "name": "python3"
  },
  "language_info": {
   "codemirror_mode": {
    "name": "ipython",
    "version": 3
   },
   "file_extension": ".py",
   "mimetype": "text/x-python",
   "name": "python",
   "nbconvert_exporter": "python",
   "pygments_lexer": "ipython3",
   "version": "3.9.7"
  }
 },
 "nbformat": 4,
 "nbformat_minor": 5
}
